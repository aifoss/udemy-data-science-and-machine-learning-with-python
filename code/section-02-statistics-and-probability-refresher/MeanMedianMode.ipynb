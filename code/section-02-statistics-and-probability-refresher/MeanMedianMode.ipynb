{
 "cells": [
  {
   "cell_type": "markdown",
   "metadata": {},
   "source": [
    "# Mean, Median, Mode, and introducing NumPy"
   ]
  },
  {
   "cell_type": "markdown",
   "metadata": {},
   "source": [
    "## Mean vs. Median"
   ]
  },
  {
   "cell_type": "markdown",
   "metadata": {},
   "source": [
    "Let's create some fake income data, centered around 27,000 with a normal distribution and standard deviation of 15,000, with 10,000 data points. (We'll discuss those terms more later, if you're not familiar with them.)\n",
    "\n",
    "Then, compute the mean (average) - it should be close to 27,000:"
   ]
  },
  {
   "cell_type": "code",
   "execution_count": 3,
   "metadata": {
    "collapsed": false
   },
   "outputs": [
    {
     "data": {
      "text/plain": [
       "26987.616072094177"
      ]
     },
     "execution_count": 3,
     "metadata": {},
     "output_type": "execute_result"
    }
   ],
   "source": [
    "import numpy as np\n",
    "\n",
    "incomes = np.random.normal(27000, 15000, 10000)\n",
    "np.mean(incomes)"
   ]
  },
  {
   "cell_type": "markdown",
   "metadata": {},
   "source": [
    "We can segment the income data into 50 buckets, and plot it as a histogram:"
   ]
  },
  {
   "cell_type": "code",
   "execution_count": 4,
   "metadata": {
    "collapsed": false
   },
   "outputs": [
    {
     "data": {
      "image/png": "[encoded data removed]",
      "text/plain": [
       "<matplotlib.figure.Figure at 0x10568ae90>"
      ]
     },
     "metadata": {},
     "output_type": "display_data"
    }
   ],
   "source": [
    "%matplotlib inline\n",
    "import matplotlib.pyplot as plt\n",
    "plt.hist(incomes, 50)\n",
    "plt.show()"
   ]
  },
  {
   "cell_type": "markdown",
   "metadata": {},
   "source": [
    "Now compute the median - since we have a nice, even distribution it too should be close to 27,000:"
   ]
  },
  {
   "cell_type": "code",
   "execution_count": 5,
   "metadata": {
    "collapsed": false
   },
   "outputs": [
    {
     "data": {
      "text/plain": [
       "27157.707046655429"
      ]
     },
     "execution_count": 5,
     "metadata": {},
     "output_type": "execute_result"
    }
   ],
   "source": [
    "np.median(incomes)"
   ]
  },
  {
   "cell_type": "markdown",
   "metadata": {},
   "source": [
    "Now we'll add Donald Trump into the mix. Darn income inequality!"
   ]
  },
  {
   "cell_type": "code",
   "execution_count": 6,
   "metadata": {
    "collapsed": false
   },
   "outputs": [],
   "source": [
    "incomes = np.append(incomes, [1000000000])"
   ]
  },
  {
   "cell_type": "markdown",
   "metadata": {},
   "source": [
    "The median won't change much, but the mean does:"
   ]
  },
  {
   "cell_type": "code",
   "execution_count": 7,
   "metadata": {
    "collapsed": false
   },
   "outputs": [
    {
     "data": {
      "text/plain": [
       "27163.20153320719"
      ]
     },
     "execution_count": 7,
     "metadata": {},
     "output_type": "execute_result"
    }
   ],
   "source": [
    "np.median(incomes)"
   ]
  },
  {
   "cell_type": "code",
   "execution_count": 8,
   "metadata": {
    "collapsed": false
   },
   "outputs": [
    {
     "data": {
      "text/plain": [
       "126974.91858023616"
      ]
     },
     "execution_count": 8,
     "metadata": {},
     "output_type": "execute_result"
    }
   ],
   "source": [
    "np.mean(incomes)"
   ]
  },
  {
   "cell_type": "markdown",
   "metadata": {},
   "source": [
    "## Mode"
   ]
  },
  {
   "cell_type": "markdown",
   "metadata": {},
   "source": [
    "Next, let's generate some fake age data for 500 people:"
   ]
  },
  {
   "cell_type": "code",
   "execution_count": 9,
   "metadata": {
    "collapsed": false
   },
   "outputs": [
    {
     "data": {
      "text/plain": [
       "array([72, 87, 69, 82, 57, 65, 35, 69, 83, 75, 71, 73, 51, 87, 52, 21, 78,\n",
       "       41, 84, 40, 30, 37, 61, 24, 74, 82, 81, 61, 52, 62, 57, 72, 76, 77,\n",
       "       78, 42, 47, 20, 58, 48, 24, 60, 88, 80, 69, 30, 49, 77, 63, 69, 26,\n",
       "       53, 49, 57, 86, 32, 57, 79, 33, 49, 74, 23, 71, 34, 59, 53, 66, 58,\n",
       "       88, 22, 43, 59, 21, 49, 21, 19, 59, 74, 47, 83, 19, 75, 19, 70, 89,\n",
       "       68, 37, 78, 48, 42, 48, 53, 84, 46, 21, 18, 27, 61, 88, 44, 43, 41,\n",
       "       51, 66, 65, 69, 60, 78, 58, 50, 59, 62, 32, 36, 87, 29, 66, 49, 62,\n",
       "       27, 61, 74, 39, 81, 58, 20, 47, 47, 61, 61, 60, 76, 57, 31, 52, 55,\n",
       "       35, 43, 19, 26, 33, 61, 85, 34, 34, 38, 64, 33, 62, 20, 33, 30, 20,\n",
       "       21, 18, 71, 27, 20, 25, 69, 89, 20, 31, 49, 56, 53, 67, 24, 55, 46,\n",
       "       86, 38, 79, 87, 28, 57, 45, 76, 57, 27, 28, 88, 49, 56, 59, 31, 75,\n",
       "       34, 53, 52, 67, 75, 64, 30, 67, 34, 52, 49, 89, 36, 23, 83, 76, 89,\n",
       "       70, 87, 35, 75, 57, 82, 68, 25, 62, 52, 31, 79, 46, 45, 40, 41, 27,\n",
       "       86, 78, 26, 74, 37, 81, 86, 88, 74, 39, 51, 18, 74, 33, 36, 41, 56,\n",
       "       46, 19, 29, 28, 54, 40, 80, 77, 55, 85, 82, 27, 61, 76, 25, 71, 79,\n",
       "       21, 38, 66, 75, 63, 66, 57, 69, 54, 49, 51, 23, 33, 48, 21, 74, 61,\n",
       "       61, 68, 20, 68, 26, 37, 43, 66, 35, 48, 73, 49, 78, 43, 72, 57, 74,\n",
       "       89, 43, 54, 61, 47, 54, 72, 58, 80, 63, 39, 28, 25, 66, 27, 84, 35,\n",
       "       70, 53, 48, 47, 70, 27, 57, 30, 50, 37, 63, 62, 44, 34, 38, 56, 22,\n",
       "       42, 21, 62, 75, 18, 30, 57, 75, 23, 83, 27, 71, 75, 50, 43, 79, 42,\n",
       "       69, 48, 58, 38, 20, 21, 33, 30, 62, 48, 69, 51, 51, 39, 63, 29, 30,\n",
       "       63, 84, 73, 60, 23, 42, 33, 81, 55, 20, 37, 80, 64, 86, 28, 40, 69,\n",
       "       47, 57, 54, 36, 49, 18, 37, 72, 54, 21, 63, 82, 61, 37, 22, 30, 86,\n",
       "       57, 42, 73, 38, 65, 32, 46, 35, 37, 46, 42, 73, 48, 63, 52, 76, 59,\n",
       "       29, 35, 75, 62, 29, 46, 30, 70, 55, 82, 28, 79, 69, 38, 41, 45, 84,\n",
       "       59, 19, 31, 21, 35, 62, 28, 26, 62, 85, 30, 44, 18, 26, 73, 26, 25,\n",
       "       76, 29, 47, 69, 51, 51, 64, 20, 69, 65, 36, 32, 60, 53, 48, 54, 34,\n",
       "       60, 44, 63, 68, 48, 39, 31, 20, 61, 67, 62, 46, 49, 18, 44, 47, 82,\n",
       "       64, 70, 57, 67, 73, 18, 79, 32, 69, 41, 19, 30, 62, 40, 20, 64, 24,\n",
       "       68, 48, 48, 67, 88, 86, 35])"
      ]
     },
     "execution_count": 9,
     "metadata": {},
     "output_type": "execute_result"
    }
   ],
   "source": [
    "ages = np.random.randint(18, high=90, size=500)\n",
    "ages"
   ]
  },
  {
   "cell_type": "code",
   "execution_count": 10,
   "metadata": {
    "collapsed": false
   },
   "outputs": [
    {
     "data": {
      "text/plain": [
       "ModeResult(mode=array([57]), count=array([15]))"
      ]
     },
     "execution_count": 10,
     "metadata": {},
     "output_type": "execute_result"
    }
   ],
   "source": [
    "from scipy import stats\n",
    "stats.mode(ages)"
   ]
  }
 ],
 "metadata": {
  "kernelspec": {
   "display_name": "Python 2",
   "language": "python",
   "name": "python2"
  },
  "language_info": {
   "codemirror_mode": {
    "name": "ipython",
    "version": 2
   },
   "file_extension": ".py",
   "mimetype": "text/x-python",
   "name": "python",
   "nbconvert_exporter": "python",
   "pygments_lexer": "ipython2",
   "version": "2.7.10"
  }
 },
 "nbformat": 4,
 "nbformat_minor": 0
}
